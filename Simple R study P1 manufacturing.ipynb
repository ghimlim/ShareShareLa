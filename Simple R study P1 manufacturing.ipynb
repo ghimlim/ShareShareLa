{
 "cells": [
  {
   "cell_type": "markdown",
   "metadata": {},
   "source": [
    "A simple study of how the number of stainless steel product units (Prod)\n",
    "produced varies and seems to depend on the width (Wid), density (Dens),\n",
    "and tensile strength (Str) of the stainless steel sheet obtained from a\n",
    "supplier"
   ]
  },
  {
   "cell_type": "code",
   "execution_count": 1,
   "metadata": {},
   "outputs": [],
   "source": [
    "p1 <- read.table(\"P1.dat\", header=TRUE)"
   ]
  },
  {
   "cell_type": "code",
   "execution_count": 2,
   "metadata": {},
   "outputs": [],
   "source": [
    "attach(p1)"
   ]
  },
  {
   "cell_type": "code",
   "execution_count": 3,
   "metadata": {},
   "outputs": [
    {
     "data": {
      "text/html": [
       "<table>\n",
       "<thead><tr><th scope=col>Id</th><th scope=col>Prod</th><th scope=col>Wid</th><th scope=col>Dens</th><th scope=col>Str</th></tr></thead>\n",
       "<tbody>\n",
       "\t<tr><td> 1  </td><td>763 </td><td>19.8</td><td>128 </td><td>86  </td></tr>\n",
       "\t<tr><td> 2  </td><td>650 </td><td>20.9</td><td>110 </td><td>72  </td></tr>\n",
       "\t<tr><td> 3  </td><td>554 </td><td>15.1</td><td> 95 </td><td>62  </td></tr>\n",
       "\t<tr><td> 4  </td><td>742 </td><td>19.8</td><td>123 </td><td>82  </td></tr>\n",
       "\t<tr><td> 5  </td><td>470 </td><td>21.4</td><td> 77 </td><td>52  </td></tr>\n",
       "\t<tr><td> 6  </td><td>651 </td><td>19.5</td><td>107 </td><td>72  </td></tr>\n",
       "\t<tr><td> 7  </td><td>756 </td><td>25.2</td><td>123 </td><td>84  </td></tr>\n",
       "\t<tr><td> 8  </td><td>563 </td><td>26.2</td><td> 95 </td><td>83  </td></tr>\n",
       "\t<tr><td> 9  </td><td>681 </td><td>26.8</td><td>116 </td><td>76  </td></tr>\n",
       "\t<tr><td>10  </td><td>579 </td><td>28.8</td><td>100 </td><td>64  </td></tr>\n",
       "\t<tr><td>11  </td><td>716 </td><td>22.0</td><td>110 </td><td>80  </td></tr>\n",
       "\t<tr><td>12  </td><td>650 </td><td>24.2</td><td>107 </td><td>71  </td></tr>\n",
       "\t<tr><td>13  </td><td>761 </td><td>24.9</td><td>125 </td><td>81  </td></tr>\n",
       "\t<tr><td>14  </td><td>549 </td><td>25.6</td><td> 89 </td><td>61  </td></tr>\n",
       "\t<tr><td>15  </td><td>641 </td><td>24.7</td><td>103 </td><td>71  </td></tr>\n",
       "\t<tr><td>16  </td><td>606 </td><td>26.2</td><td>103 </td><td>67  </td></tr>\n",
       "\t<tr><td>17  </td><td>696 </td><td>21.0</td><td>110 </td><td>77  </td></tr>\n",
       "\t<tr><td>18  </td><td>795 </td><td>29.4</td><td>133 </td><td>83  </td></tr>\n",
       "\t<tr><td>19  </td><td>582 </td><td>21.6</td><td> 96 </td><td>65  </td></tr>\n",
       "\t<tr><td>20  </td><td>559 </td><td>20.0</td><td> 91 </td><td>62  </td></tr>\n",
       "</tbody>\n",
       "</table>\n"
      ],
      "text/latex": [
       "\\begin{tabular}{r|lllll}\n",
       " Id & Prod & Wid & Dens & Str\\\\\n",
       "\\hline\n",
       "\t  1   & 763  & 19.8 & 128  & 86  \\\\\n",
       "\t  2   & 650  & 20.9 & 110  & 72  \\\\\n",
       "\t  3   & 554  & 15.1 &  95  & 62  \\\\\n",
       "\t  4   & 742  & 19.8 & 123  & 82  \\\\\n",
       "\t  5   & 470  & 21.4 &  77  & 52  \\\\\n",
       "\t  6   & 651  & 19.5 & 107  & 72  \\\\\n",
       "\t  7   & 756  & 25.2 & 123  & 84  \\\\\n",
       "\t  8   & 563  & 26.2 &  95  & 83  \\\\\n",
       "\t  9   & 681  & 26.8 & 116  & 76  \\\\\n",
       "\t 10   & 579  & 28.8 & 100  & 64  \\\\\n",
       "\t 11   & 716  & 22.0 & 110  & 80  \\\\\n",
       "\t 12   & 650  & 24.2 & 107  & 71  \\\\\n",
       "\t 13   & 761  & 24.9 & 125  & 81  \\\\\n",
       "\t 14   & 549  & 25.6 &  89  & 61  \\\\\n",
       "\t 15   & 641  & 24.7 & 103  & 71  \\\\\n",
       "\t 16   & 606  & 26.2 & 103  & 67  \\\\\n",
       "\t 17   & 696  & 21.0 & 110  & 77  \\\\\n",
       "\t 18   & 795  & 29.4 & 133  & 83  \\\\\n",
       "\t 19   & 582  & 21.6 &  96  & 65  \\\\\n",
       "\t 20   & 559  & 20.0 &  91  & 62  \\\\\n",
       "\\end{tabular}\n"
      ],
      "text/markdown": [
       "\n",
       "Id | Prod | Wid | Dens | Str | \n",
       "|---|---|---|---|---|---|---|---|---|---|---|---|---|---|---|---|---|---|---|---|\n",
       "|  1   | 763  | 19.8 | 128  | 86   | \n",
       "|  2   | 650  | 20.9 | 110  | 72   | \n",
       "|  3   | 554  | 15.1 |  95  | 62   | \n",
       "|  4   | 742  | 19.8 | 123  | 82   | \n",
       "|  5   | 470  | 21.4 |  77  | 52   | \n",
       "|  6   | 651  | 19.5 | 107  | 72   | \n",
       "|  7   | 756  | 25.2 | 123  | 84   | \n",
       "|  8   | 563  | 26.2 |  95  | 83   | \n",
       "|  9   | 681  | 26.8 | 116  | 76   | \n",
       "| 10   | 579  | 28.8 | 100  | 64   | \n",
       "| 11   | 716  | 22.0 | 110  | 80   | \n",
       "| 12   | 650  | 24.2 | 107  | 71   | \n",
       "| 13   | 761  | 24.9 | 125  | 81   | \n",
       "| 14   | 549  | 25.6 |  89  | 61   | \n",
       "| 15   | 641  | 24.7 | 103  | 71   | \n",
       "| 16   | 606  | 26.2 | 103  | 67   | \n",
       "| 17   | 696  | 21.0 | 110  | 77   | \n",
       "| 18   | 795  | 29.4 | 133  | 83   | \n",
       "| 19   | 582  | 21.6 |  96  | 65   | \n",
       "| 20   | 559  | 20.0 |  91  | 62   | \n",
       "\n",
       "\n"
      ],
      "text/plain": [
       "   Id Prod Wid  Dens Str\n",
       "1   1 763  19.8 128  86 \n",
       "2   2 650  20.9 110  72 \n",
       "3   3 554  15.1  95  62 \n",
       "4   4 742  19.8 123  82 \n",
       "5   5 470  21.4  77  52 \n",
       "6   6 651  19.5 107  72 \n",
       "7   7 756  25.2 123  84 \n",
       "8   8 563  26.2  95  83 \n",
       "9   9 681  26.8 116  76 \n",
       "10 10 579  28.8 100  64 \n",
       "11 11 716  22.0 110  80 \n",
       "12 12 650  24.2 107  71 \n",
       "13 13 761  24.9 125  81 \n",
       "14 14 549  25.6  89  61 \n",
       "15 15 641  24.7 103  71 \n",
       "16 16 606  26.2 103  67 \n",
       "17 17 696  21.0 110  77 \n",
       "18 18 795  29.4 133  83 \n",
       "19 19 582  21.6  96  65 \n",
       "20 20 559  20.0  91  62 "
      ]
     },
     "metadata": {},
     "output_type": "display_data"
    }
   ],
   "source": [
    "p1"
   ]
  },
  {
   "cell_type": "code",
   "execution_count": 4,
   "metadata": {},
   "outputs": [
    {
     "data": {
      "image/png": "[encoded data removed]",
      "text/plain": [
       "plot without title"
      ]
     },
     "metadata": {},
     "output_type": "display_data"
    }
   ],
   "source": [
    "pairs(p1[2:5])"
   ]
  },
  {
   "cell_type": "markdown",
   "metadata": {},
   "source": [
    "High correlation between 1) Prod & Dens, 2) Prod & Str and 3) Dens & Str. Low correlation between 4) Wid & Prod, 2) Wid & Dens and 3) Wid & Str."
   ]
  },
  {
   "cell_type": "code",
   "execution_count": 5,
   "metadata": {},
   "outputs": [
    {
     "data": {
      "image/png": "[encoded data removed]",
      "text/plain": [
       "plot without title"
      ]
     },
     "metadata": {},
     "output_type": "display_data"
    }
   ],
   "source": [
    "p1.mod <- lm(Prod~Dens)\n",
    "plot(Prod~Dens)\n",
    "abline(p1.mod)"
   ]
  },
  {
   "cell_type": "code",
   "execution_count": 6,
   "metadata": {},
   "outputs": [
    {
     "data": {
      "text/html": [
       "<table>\n",
       "<thead><tr><th></th><th scope=col>Df</th><th scope=col>Sum Sq</th><th scope=col>Mean Sq</th><th scope=col>F value</th><th scope=col>Pr(&gt;F)</th></tr></thead>\n",
       "<tbody>\n",
       "\t<tr><th scope=row>Dens</th><td> 1          </td><td>145920.517  </td><td>145920.5170 </td><td>397.2018    </td><td>1.023387e-13</td></tr>\n",
       "\t<tr><th scope=row>Residuals</th><td>18          </td><td>  6612.683  </td><td>   367.3713 </td><td>      NA    </td><td>          NA</td></tr>\n",
       "</tbody>\n",
       "</table>\n"
      ],
      "text/latex": [
       "\\begin{tabular}{r|lllll}\n",
       "  & Df & Sum Sq & Mean Sq & F value & Pr(>F)\\\\\n",
       "\\hline\n",
       "\tDens &  1           & 145920.517   & 145920.5170  & 397.2018     & 1.023387e-13\\\\\n",
       "\tResiduals & 18           &   6612.683   &    367.3713  &       NA     &           NA\\\\\n",
       "\\end{tabular}\n"
      ],
      "text/markdown": [
       "\n",
       "| <!--/--> | Df | Sum Sq | Mean Sq | F value | Pr(>F) | \n",
       "|---|---|\n",
       "| Dens |  1           | 145920.517   | 145920.5170  | 397.2018     | 1.023387e-13 | \n",
       "| Residuals | 18           |   6612.683   |    367.3713  |       NA     |           NA | \n",
       "\n",
       "\n"
      ],
      "text/plain": [
       "          Df Sum Sq     Mean Sq     F value  Pr(>F)      \n",
       "Dens       1 145920.517 145920.5170 397.2018 1.023387e-13\n",
       "Residuals 18   6612.683    367.3713       NA           NA"
      ]
     },
     "metadata": {},
     "output_type": "display_data"
    }
   ],
   "source": [
    "anova(p1.mod)"
   ]
  },
  {
   "cell_type": "code",
   "execution_count": 7,
   "metadata": {},
   "outputs": [
    {
     "data": {
      "text/plain": [
       "\n",
       "Call:\n",
       "lm(formula = Prod ~ Dens)\n",
       "\n",
       "Residuals:\n",
       "    Min      1Q  Median      3Q     Max \n",
       "-26.783 -13.512   1.192   7.875  50.051 \n",
       "\n",
       "Coefficients:\n",
       "            Estimate Std. Error t value Pr(>|t|)    \n",
       "(Intercept)   4.1180    32.6003   0.126    0.901    \n",
       "Dens          6.0166     0.3019  19.930 1.02e-13 ***\n",
       "---\n",
       "Signif. codes:  0 '***' 0.001 '**' 0.01 '*' 0.05 '.' 0.1 ' ' 1\n",
       "\n",
       "Residual standard error: 19.17 on 18 degrees of freedom\n",
       "Multiple R-squared:  0.9566,\tAdjusted R-squared:  0.9542 \n",
       "F-statistic: 397.2 on 1 and 18 DF,  p-value: 1.023e-13\n"
      ]
     },
     "metadata": {},
     "output_type": "display_data"
    }
   ],
   "source": [
    "summary(p1.mod)"
   ]
  },
  {
   "cell_type": "markdown",
   "metadata": {},
   "source": [
    "H0: β1 =0\n",
    "Ha: β1 ≠0\n",
    "F = MSREG/s^2 = 397.2\n",
    "F Statistics F(1, 18, 0.95) = 4.41\n",
    "Therefore 397.2 > 4.41. Reject H0: β1 = 0 and therefore reject the idea that a linear relationship\n",
    "between Prod and Dens might not exist, running the risk of less then 5% being wrong"
   ]
  },
  {
   "cell_type": "code",
   "execution_count": 8,
   "metadata": {},
   "outputs": [
    {
     "data": {
      "image/png": "[encoded data removed]",
      "text/plain": [
       "Plot with title \"Normal Q-Q Plot\""
      ]
     },
     "metadata": {},
     "output_type": "display_data"
    }
   ],
   "source": [
    " qqnorm(resid(p1.mod))"
   ]
  },
  {
   "cell_type": "code",
   "execution_count": 9,
   "metadata": {},
   "outputs": [
    {
     "data": {
      "image/png": "[encoded data removed]",
      "text/plain": [
       "plot without title"
      ]
     },
     "metadata": {},
     "output_type": "display_data"
    }
   ],
   "source": [
    "plot(resid(p1.mod)~Dens, ylab=c(\"Residual\"))\n",
    "abline(h=0)"
   ]
  },
  {
   "cell_type": "code",
   "execution_count": 11,
   "metadata": {},
   "outputs": [
    {
     "data": {
      "image/png": "[encoded data removed]",
      "text/plain": [
       "plot without title"
      ]
     },
     "metadata": {},
     "output_type": "display_data"
    }
   ],
   "source": [
    "plot(resid(p1.mod)~fitted(p1.mod), ylab=c(\"Residual\"), xlab=c(\"Fitted\"))\n",
    "abline(h=0)"
   ]
  },
  {
   "cell_type": "markdown",
   "metadata": {},
   "source": [
    "The residual plots show a satisfactory horizontal band of points except for a likely outlier\n",
    "residual 50.0508937. Normal probability plot show that most of the points lie on the main\n",
    "middle bulk of the plot except for likely outliers residuals #11 (50.0508937) and #17\n",
    "(30.0508937). Therefore the plots do not exhibit a denial of the normality assumption of\n",
    "the error distribution."
   ]
  },
  {
   "cell_type": "code",
   "execution_count": 13,
   "metadata": {},
   "outputs": [
    {
     "data": {
      "text/plain": [
       "\n",
       "Call:\n",
       "lm(formula = Prod ~ Dens + Str + Wid)\n",
       "\n",
       "Residuals:\n",
       "    Min      1Q  Median      3Q     Max \n",
       "-29.330 -15.688   0.622   8.179  42.160 \n",
       "\n",
       "Coefficients:\n",
       "            Estimate Std. Error t value Pr(>|t|)    \n",
       "(Intercept)   6.3838    40.7015   0.157    0.877    \n",
       "Dens          5.4090     0.5952   9.088 1.02e-07 ***\n",
       "Str           1.1577     0.9092   1.273    0.221    \n",
       "Wid          -0.9161     1.2430  -0.737    0.472    \n",
       "---\n",
       "Signif. codes:  0 '***' 0.001 '**' 0.01 '*' 0.05 '.' 0.1 ' ' 1\n",
       "\n",
       "Residual standard error: 19.12 on 16 degrees of freedom\n",
       "Multiple R-squared:  0.9617,\tAdjusted R-squared:  0.9545 \n",
       "F-statistic: 133.7 on 3 and 16 DF,  p-value: 1.534e-11\n"
      ]
     },
     "metadata": {},
     "output_type": "display_data"
    }
   ],
   "source": [
    "p1.mod1 <- lm(Prod~Dens+Str+Wid)\n",
    "p1.mod2 <- lm(Prod~Dens+Wid+Str)\n",
    "summary(p1.mod1)"
   ]
  },
  {
   "cell_type": "code",
   "execution_count": 14,
   "metadata": {},
   "outputs": [
    {
     "data": {
      "text/html": [
       "<table>\n",
       "<thead><tr><th></th><th scope=col>Df</th><th scope=col>Sum Sq</th><th scope=col>Mean Sq</th><th scope=col>F value</th><th scope=col>Pr(&gt;F)</th></tr></thead>\n",
       "<tbody>\n",
       "\t<tr><th scope=row>Dens</th><td> 1          </td><td>145920.5170 </td><td>145920.5170 </td><td>399.1606231 </td><td>9.725256e-13</td></tr>\n",
       "\t<tr><th scope=row>Str</th><td> 1          </td><td>   565.0090 </td><td>   565.0090 </td><td>  1.5455629 </td><td>2.317013e-01</td></tr>\n",
       "\t<tr><th scope=row>Wid</th><td> 1          </td><td>   198.5794 </td><td>   198.5794 </td><td>  0.5432072 </td><td>4.717768e-01</td></tr>\n",
       "\t<tr><th scope=row>Residuals</th><td>16          </td><td>  5849.0947 </td><td>   365.5684 </td><td>         NA </td><td>          NA</td></tr>\n",
       "</tbody>\n",
       "</table>\n"
      ],
      "text/latex": [
       "\\begin{tabular}{r|lllll}\n",
       "  & Df & Sum Sq & Mean Sq & F value & Pr(>F)\\\\\n",
       "\\hline\n",
       "\tDens &  1           & 145920.5170  & 145920.5170  & 399.1606231  & 9.725256e-13\\\\\n",
       "\tStr &  1           &    565.0090  &    565.0090  &   1.5455629  & 2.317013e-01\\\\\n",
       "\tWid &  1           &    198.5794  &    198.5794  &   0.5432072  & 4.717768e-01\\\\\n",
       "\tResiduals & 16           &   5849.0947  &    365.5684  &          NA  &           NA\\\\\n",
       "\\end{tabular}\n"
      ],
      "text/markdown": [
       "\n",
       "| <!--/--> | Df | Sum Sq | Mean Sq | F value | Pr(>F) | \n",
       "|---|---|---|---|\n",
       "| Dens |  1           | 145920.5170  | 145920.5170  | 399.1606231  | 9.725256e-13 | \n",
       "| Str |  1           |    565.0090  |    565.0090  |   1.5455629  | 2.317013e-01 | \n",
       "| Wid |  1           |    198.5794  |    198.5794  |   0.5432072  | 4.717768e-01 | \n",
       "| Residuals | 16           |   5849.0947  |    365.5684  |          NA  |           NA | \n",
       "\n",
       "\n"
      ],
      "text/plain": [
       "          Df Sum Sq      Mean Sq     F value     Pr(>F)      \n",
       "Dens       1 145920.5170 145920.5170 399.1606231 9.725256e-13\n",
       "Str        1    565.0090    565.0090   1.5455629 2.317013e-01\n",
       "Wid        1    198.5794    198.5794   0.5432072 4.717768e-01\n",
       "Residuals 16   5849.0947    365.5684          NA           NA"
      ]
     },
     "metadata": {},
     "output_type": "display_data"
    }
   ],
   "source": [
    "anova(p1.mod1)"
   ]
  },
  {
   "cell_type": "code",
   "execution_count": 15,
   "metadata": {},
   "outputs": [
    {
     "data": {
      "text/html": [
       "<table>\n",
       "<thead><tr><th></th><th scope=col>Df</th><th scope=col>Sum Sq</th><th scope=col>Mean Sq</th><th scope=col>F value</th><th scope=col>Pr(&gt;F)</th></tr></thead>\n",
       "<tbody>\n",
       "\t<tr><th scope=row>Dens</th><td> 1          </td><td>145920.5170 </td><td>145920.5170 </td><td>399.160623  </td><td>9.725256e-13</td></tr>\n",
       "\t<tr><th scope=row>Wid</th><td> 1          </td><td>   170.9043 </td><td>   170.9043 </td><td>  0.467503  </td><td>5.039209e-01</td></tr>\n",
       "\t<tr><th scope=row>Str</th><td> 1          </td><td>   592.6840 </td><td>   592.6840 </td><td>  1.621267  </td><td>2.211043e-01</td></tr>\n",
       "\t<tr><th scope=row>Residuals</th><td>16          </td><td>  5849.0947 </td><td>   365.5684 </td><td>        NA  </td><td>          NA</td></tr>\n",
       "</tbody>\n",
       "</table>\n"
      ],
      "text/latex": [
       "\\begin{tabular}{r|lllll}\n",
       "  & Df & Sum Sq & Mean Sq & F value & Pr(>F)\\\\\n",
       "\\hline\n",
       "\tDens &  1           & 145920.5170  & 145920.5170  & 399.160623   & 9.725256e-13\\\\\n",
       "\tWid &  1           &    170.9043  &    170.9043  &   0.467503   & 5.039209e-01\\\\\n",
       "\tStr &  1           &    592.6840  &    592.6840  &   1.621267   & 2.211043e-01\\\\\n",
       "\tResiduals & 16           &   5849.0947  &    365.5684  &         NA   &           NA\\\\\n",
       "\\end{tabular}\n"
      ],
      "text/markdown": [
       "\n",
       "| <!--/--> | Df | Sum Sq | Mean Sq | F value | Pr(>F) | \n",
       "|---|---|---|---|\n",
       "| Dens |  1           | 145920.5170  | 145920.5170  | 399.160623   | 9.725256e-13 | \n",
       "| Wid |  1           |    170.9043  |    170.9043  |   0.467503   | 5.039209e-01 | \n",
       "| Str |  1           |    592.6840  |    592.6840  |   1.621267   | 2.211043e-01 | \n",
       "| Residuals | 16           |   5849.0947  |    365.5684  |         NA   |           NA | \n",
       "\n",
       "\n"
      ],
      "text/plain": [
       "          Df Sum Sq      Mean Sq     F value    Pr(>F)      \n",
       "Dens       1 145920.5170 145920.5170 399.160623 9.725256e-13\n",
       "Wid        1    170.9043    170.9043   0.467503 5.039209e-01\n",
       "Str        1    592.6840    592.6840   1.621267 2.211043e-01\n",
       "Residuals 16   5849.0947    365.5684         NA           NA"
      ]
     },
     "metadata": {},
     "output_type": "display_data"
    }
   ],
   "source": [
    "anova(p1.mod2)"
   ]
  },
  {
   "cell_type": "markdown",
   "metadata": {},
   "source": [
    "H0: βDens = βStr = βWid =0\n",
    "Ha: not all βi =0\n",
    "F-statistic = SS(reg|b0)/(p-1) divide by SS(Residual)/(n-4) = 133.7\n",
    "F(3,16, 0.95) = 3.24\n",
    "Therefore since F-statistic 133.7 > 3.24, Reject H0: β1 = β2 = β3 =0 and therefore reject the idea\n",
    "that a linear relationship between Prod, Wid, Dens and Str might not exist, running the risk of less\n",
    "than 5% being wrong.\n",
    "\n",
    "Next consider Sequential Sum of Squares for p1.mod1 [lm(Prod ~ Dens+Str+Wid), anova(p1.mod1)]\n",
    "H0: βStr = βWid =0\n",
    "Ha: not so\n",
    "F = {(SSStr + SSWid)/(4-2)}/s^2, (where dof s^2 =20-4=16)\n",
    "  = {(565 + 199)/2}/366 = 1.04\n",
    "  \n",
    "F(2, 16, 0.95) = 3.63\n",
    "Therefore accept H0: βStr = βWid =0.\n",
    "\n",
    "Next consider Partial Sum of Squares for p1.mod1 [lm(Prod ~ Dens+Str+Wid) , anova(p1.mod1)] for partial F-test of βWid under consideration. From anova table F (βWid)= 0.5432\n",
    "F(1, 16, 0.95) = 4.49\n",
    "Therefore indicating a statistically insignificant contribution of Wid to the equation."
   ]
  },
  {
   "cell_type": "code",
   "execution_count": 16,
   "metadata": {},
   "outputs": [
    {
     "data": {
      "image/png": "[encoded data removed]",
      "text/plain": [
       "Plot with title \"Normal Q-Q Plot\""
      ]
     },
     "metadata": {},
     "output_type": "display_data"
    }
   ],
   "source": [
    " qqnorm(resid(p1.mod1))"
   ]
  },
  {
   "cell_type": "code",
   "execution_count": 17,
   "metadata": {},
   "outputs": [
    {
     "data": {
      "image/png": "[encoded data removed]",
      "text/plain": [
       "plot without title"
      ]
     },
     "metadata": {},
     "output_type": "display_data"
    }
   ],
   "source": [
    "plot(resid(p1.mod1)~fitted(p1.mod1), ylab=c(\"Residual\"), xlab=c(\"Fitted\"))\n",
    "abline(h=0)"
   ]
  },
  {
   "cell_type": "code",
   "execution_count": 18,
   "metadata": {},
   "outputs": [
    {
     "data": {
      "image/png": "[encoded data removed]",
      "text/plain": [
       "plot without title"
      ]
     },
     "metadata": {},
     "output_type": "display_data"
    }
   ],
   "source": [
    "plot(resid(p1.mod1)~Dens, ylab=c(\"Residual\"))\n",
    "abline(h=0)"
   ]
  },
  {
   "cell_type": "code",
   "execution_count": 19,
   "metadata": {},
   "outputs": [
    {
     "data": {
      "image/png": "[encoded data removed]",
      "text/plain": [
       "plot without title"
      ]
     },
     "metadata": {},
     "output_type": "display_data"
    }
   ],
   "source": [
    "plot(resid(p1.mod1)~Wid, ylab=c(\"Residual\"))\n",
    "abline(h=0)"
   ]
  },
  {
   "cell_type": "code",
   "execution_count": 20,
   "metadata": {},
   "outputs": [
    {
     "data": {
      "image/png": "[encoded data removed]",
      "text/plain": [
       "plot without title"
      ]
     },
     "metadata": {},
     "output_type": "display_data"
    }
   ],
   "source": [
    "plot(resid(p1.mod1)~Str, ylab=c(\"Residual\"))\n",
    "abline(h=0)"
   ]
  },
  {
   "cell_type": "code",
   "execution_count": 21,
   "metadata": {},
   "outputs": [
    {
     "data": {
      "image/png": "[encoded data removed]",
      "text/plain": [
       "Plot with title \"Normal Q-Q Plot\""
      ]
     },
     "metadata": {},
     "output_type": "display_data"
    }
   ],
   "source": [
    "par(mfrow=c(3,2))\n",
    "qqnorm(resid(p1.mod1))\n",
    "plot(resid(p1.mod1)~fitted(p1.mod1), ylab=c(\"Residual\"), xlab=c(\"Fitted\"))\n",
    "abline(h=0)\n",
    "plot(resid(p1.mod1)~Dens, ylab=c(\"Residual\"))\n",
    "abline(h=0)\n",
    "plot(resid(p1.mod1)~Wid, ylab=c(\"Residual\"))\n",
    "abline(h=0)\n",
    "plot(resid(p1.mod1)~Str, ylab=c(\"Residual\"))\n",
    "abline(h=0)"
   ]
  },
  {
   "cell_type": "markdown",
   "metadata": {},
   "source": [
    "The plots of Residual vs fitted Yhat, Residuals vs Str and Residuals vs Dens have the same pattern indicating that the fitted values Yhat are a linear function of the values of predictor variables Str and Dens. For the predictor variable Wid, the residual plot look different from the other 2 predictor variable residual plots but it also has an approx horizontal band. The outliers should only be discarded if there is evidence that it represents an error. The extra terms of βStr & βWid are unnecessary and could be removed from the model. The residual plots have a approx horizontal band indicating that there is no non-linearity in the data being fitted by the linear function."
   ]
  }
 ],
 "metadata": {
  "kernelspec": {
   "display_name": "R [conda env:newbie]",
   "language": "R",
   "name": "conda-env-newbie-r"
  },
  "language_info": {
   "codemirror_mode": "r",
   "file_extension": ".r",
   "mimetype": "text/x-r-source",
   "name": "R",
   "pygments_lexer": "r",
   "version": "3.4.3"
  }
 },
 "nbformat": 4,
 "nbformat_minor": 2
}
